{
 "cells": [
  {
   "cell_type": "markdown",
   "id": "domestic-brighton",
   "metadata": {},
   "source": [
    "### Методичка 1\n",
    "**Задача 1.** Установить, какие произведения матриц  𝐴𝐵  и  𝐵𝐴  определены, и найти размерности полученных матриц:  \n",
    "а)  𝐴  — матрица  4×2 ,  𝐵  — матрица  4×2 ;    \n",
    "Произведение AB и BA в данном случае невозможно, т к ни в одном из случаев количество столбцов 1ой матрицы не будет равно кол-ву строк 2ой\n",
    "\n",
    "б)  𝐴  — матрица  2×5 ,  𝐵  — матрица  5×3 ;  \n",
    "Возможно произведение С = AB, С будет размера 2х3\n",
    "\n",
    "\n",
    "в)  𝐴  — матрица  8×3 ,  𝐵  — матрица  3×8 ;  \n",
    "Возможны оба варианта C=AB=(8x8), C1 = BA = (3x3)\n",
    "\n",
    "\n",
    "\n",
    "г)  𝐴  — квадратная матрица  4×4 ,  𝐵  — квадратная матрица  4×4 .\n",
    "Возможны оба варианта С = AB = (4x4), C1 = BA = (4x4)"
   ]
  },
  {
   "cell_type": "markdown",
   "id": "parliamentary-antigua",
   "metadata": {},
   "source": [
    "**Задания 2, 3 и 4 рассчитаны вручную на листочке (см фото les2_1), ниже приведены решение через numpy для проверки полученного результата**"
   ]
  },
  {
   "cell_type": "markdown",
   "id": "mysterious-october",
   "metadata": {},
   "source": [
    "**Задача 2.** Найти сумму и произведение матриц A и B"
   ]
  },
  {
   "cell_type": "code",
   "execution_count": 1,
   "id": "royal-wells",
   "metadata": {},
   "outputs": [],
   "source": [
    "import numpy as np"
   ]
  },
  {
   "cell_type": "code",
   "execution_count": 10,
   "id": "frequent-probe",
   "metadata": {
    "scrolled": true
   },
   "outputs": [
    {
     "name": "stdout",
     "output_type": "stream",
     "text": [
      "Матрица А: \n",
      "[[ 1 -2]\n",
      " [ 3  0]] \n",
      "Матрица В: \n",
      "[[ 4 -1]\n",
      " [ 0  5]]\n"
     ]
    }
   ],
   "source": [
    "A = np.array([[1, -2], [3, 0]])\n",
    "B = np.array([[4, -1], [0, 5]])\n",
    "print(f'Матрица А: \\n{A} \\nМатрица В: \\n{B}')"
   ]
  },
  {
   "cell_type": "code",
   "execution_count": 20,
   "id": "effective-equipment",
   "metadata": {},
   "outputs": [
    {
     "name": "stdout",
     "output_type": "stream",
     "text": [
      "A+B\n",
      "[[ 5 -3]\n",
      " [ 3  5]] \n",
      "A*B\n",
      "[[  4 -11]\n",
      " [ 12  -3]] \n",
      "B*A\n",
      "[[ 1 -8]\n",
      " [15  0]]\n"
     ]
    }
   ],
   "source": [
    "print(f'A+B\\n{A+B} \\nA*B\\n{np.dot(A,B)} \\nB*A\\n{np.dot(B, A)}')"
   ]
  },
  {
   "cell_type": "markdown",
   "id": "removable-battle",
   "metadata": {},
   "source": [
    "**Задача 3.** Вычислить линейную комбинацию  3𝐴−2𝐵+4𝐶  для матриц A, B и C"
   ]
  },
  {
   "cell_type": "code",
   "execution_count": 23,
   "id": "personal-beads",
   "metadata": {},
   "outputs": [
    {
     "name": "stdout",
     "output_type": "stream",
     "text": [
      "Матрица А: \n",
      "[[ 1  7]\n",
      " [ 3 -6]] \n",
      "Матрица В: \n",
      "[[ 0  5]\n",
      " [ 2 -1]] \n",
      "Матрица C: \n",
      "[[ 2 -4]\n",
      " [ 1  1]]\n"
     ]
    }
   ],
   "source": [
    "A = np.array([[1, 7], [3, -6]])\n",
    "B = np.array([[0, 5], [2, -1]])\n",
    "C = np.array([[2, -4], [1, 1]])\n",
    "print(f'Матрица А: \\n{A} \\nМатрица В: \\n{B} \\nМатрица C: \\n{C}')"
   ]
  },
  {
   "cell_type": "code",
   "execution_count": 25,
   "id": "sharp-subscription",
   "metadata": {},
   "outputs": [
    {
     "data": {
      "text/plain": [
       "array([[ 11,  -5],\n",
       "       [  9, -12]])"
      ]
     },
     "execution_count": 25,
     "metadata": {},
     "output_type": "execute_result"
    }
   ],
   "source": [
    "3*A - 2*B + 4*C"
   ]
  },
  {
   "cell_type": "markdown",
   "id": "assisted-merchant",
   "metadata": {},
   "source": [
    "**Задание 4.** Дана матрица А. Вычислить  𝐴𝐴𝑇  и  𝐴𝑇𝐴 (матрицу корреляции и матрицу ковариаций)"
   ]
  },
  {
   "cell_type": "code",
   "execution_count": 28,
   "id": "handled-shaft",
   "metadata": {},
   "outputs": [
    {
     "data": {
      "text/plain": [
       "array([[ 4,  1],\n",
       "       [ 5, -2],\n",
       "       [ 2,  3]])"
      ]
     },
     "execution_count": 28,
     "metadata": {},
     "output_type": "execute_result"
    }
   ],
   "source": [
    "A = np.array([[4, 1], [5, -2], [2, 3]])\n",
    "A"
   ]
  },
  {
   "cell_type": "code",
   "execution_count": 30,
   "id": "coated-establishment",
   "metadata": {},
   "outputs": [
    {
     "data": {
      "text/plain": [
       "array([[ 4,  5,  2],\n",
       "       [ 1, -2,  3]])"
      ]
     },
     "execution_count": 30,
     "metadata": {},
     "output_type": "execute_result"
    }
   ],
   "source": [
    "AT = A.T\n",
    "AT"
   ]
  },
  {
   "cell_type": "code",
   "execution_count": 32,
   "id": "stuck-desperate",
   "metadata": {},
   "outputs": [
    {
     "data": {
      "text/plain": [
       "array([[17, 18, 11],\n",
       "       [18, 29,  4],\n",
       "       [11,  4, 13]])"
      ]
     },
     "execution_count": 32,
     "metadata": {},
     "output_type": "execute_result"
    }
   ],
   "source": [
    "corr_matrix = np.dot(A, AT)\n",
    "corr_matrix"
   ]
  },
  {
   "cell_type": "code",
   "execution_count": 33,
   "id": "mathematical-dubai",
   "metadata": {},
   "outputs": [
    {
     "data": {
      "text/plain": [
       "array([[45,  0],\n",
       "       [ 0, 14]])"
      ]
     },
     "execution_count": 33,
     "metadata": {},
     "output_type": "execute_result"
    }
   ],
   "source": [
    "cov_matrix = np.dot(AT, A)\n",
    "cov_matrix"
   ]
  },
  {
   "cell_type": "markdown",
   "id": "simple-stadium",
   "metadata": {},
   "source": [
    "### Методичка 2"
   ]
  },
  {
   "cell_type": "markdown",
   "id": "third-click",
   "metadata": {},
   "source": [
    "**Задания методички выполнены на листочке (см приложенные фото les2_2 и 3), проверка произведена по функциям numpy**"
   ]
  },
  {
   "cell_type": "markdown",
   "id": "differential-forwarding",
   "metadata": {},
   "source": [
    "**Задание 1.** Вычислить определитель"
   ]
  },
  {
   "cell_type": "code",
   "execution_count": 49,
   "id": "beautiful-dragon",
   "metadata": {},
   "outputs": [
    {
     "data": {
      "text/plain": [
       "180.0"
      ]
     },
     "execution_count": 49,
     "metadata": {},
     "output_type": "execute_result"
    }
   ],
   "source": [
    "B = np.array([[4, 2, 3], [0, 5, 1], [0, 0, 9]])\n",
    "np.linalg.det(B)"
   ]
  },
  {
   "cell_type": "code",
   "execution_count": 51,
   "id": "corporate-burning",
   "metadata": {},
   "outputs": [
    {
     "data": {
      "text/plain": [
       "0.0"
      ]
     },
     "execution_count": 51,
     "metadata": {},
     "output_type": "execute_result"
    }
   ],
   "source": [
    "C = np.array([[1, 2, 3], [4, 5, 6], [7, 8, 9]])\n",
    "np.linalg.det(C)"
   ]
  },
  {
   "cell_type": "markdown",
   "id": "deluxe-shower",
   "metadata": {},
   "source": [
    "**Задание 3.** Доказать, что матрица вырожденная"
   ]
  },
  {
   "cell_type": "code",
   "execution_count": 53,
   "id": "criminal-pencil",
   "metadata": {},
   "outputs": [
    {
     "data": {
      "text/plain": [
       "0.0"
      ]
     },
     "execution_count": 53,
     "metadata": {},
     "output_type": "execute_result"
    }
   ],
   "source": [
    "# проверим определитель (должен быть равен 0)\n",
    "A = np.array([[-2, 7, -3], [4, -14, 6], [-3, 7, 13]])\n",
    "np.linalg.det(A)"
   ]
  },
  {
   "cell_type": "markdown",
   "id": "composite-duplicate",
   "metadata": {},
   "source": [
    "Определитель равен 0 -> значит матрица является вырожденной"
   ]
  },
  {
   "cell_type": "markdown",
   "id": "important-aluminum",
   "metadata": {},
   "source": [
    "**Задание 4.** Найти ранг матрицы"
   ]
  },
  {
   "cell_type": "code",
   "execution_count": 57,
   "id": "running-recycling",
   "metadata": {},
   "outputs": [
    {
     "name": "stdout",
     "output_type": "stream",
     "text": [
      "Ранг матрицы А = 2\n"
     ]
    }
   ],
   "source": [
    "A = np.array([[1, 2, 3], [1, 1, 1], [2, 3, 4]])\n",
    "print(f'Ранг матрицы А = {np.linalg.matrix_rank(A)}')"
   ]
  },
  {
   "cell_type": "code",
   "execution_count": 58,
   "id": "vocational-telescope",
   "metadata": {},
   "outputs": [
    {
     "name": "stdout",
     "output_type": "stream",
     "text": [
      "Ранг матрицы B = 3\n"
     ]
    }
   ],
   "source": [
    "B = np.array([[0, 0, 2, 1], [0, 0, 2, 2], [0, 0, 4, 3], [2, 3, 5, 6]])\n",
    "print(f'Ранг матрицы B = {np.linalg.matrix_rank(B)}')"
   ]
  }
 ],
 "metadata": {
  "kernelspec": {
   "display_name": "Python 3",
   "language": "python",
   "name": "python3"
  },
  "language_info": {
   "codemirror_mode": {
    "name": "ipython",
    "version": 3
   },
   "file_extension": ".py",
   "mimetype": "text/x-python",
   "name": "python",
   "nbconvert_exporter": "python",
   "pygments_lexer": "ipython3",
   "version": "3.9.2"
  }
 },
 "nbformat": 4,
 "nbformat_minor": 5
}
