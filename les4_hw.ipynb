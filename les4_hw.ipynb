{
 "cells": [
  {
   "cell_type": "markdown",
   "id": "little-seven",
   "metadata": {},
   "source": [
    "### Методичка 1"
   ]
  },
  {
   "cell_type": "markdown",
   "id": "cosmetic-balloon",
   "metadata": {},
   "source": [
    "**Задание 1.** Решить систему уравнений методом Гаусса.   \n",
    "Решено на листочке см фото\n"
   ]
  },
  {
   "cell_type": "markdown",
   "id": "above-exhibit",
   "metadata": {},
   "source": [
    "**Задание 2.** Проверить на совместность и выяснить, сколько решений будет иметь система линейных уравнений"
   ]
  },
  {
   "cell_type": "code",
   "execution_count": 9,
   "id": "occupational-messenger",
   "metadata": {},
   "outputs": [
    {
     "data": {
      "text/plain": [
       "True"
      ]
     },
     "execution_count": 9,
     "metadata": {},
     "output_type": "execute_result"
    }
   ],
   "source": [
    "# a)\n",
    "import numpy as np\n",
    "A = np.array([[3, -1, 1], [2, -5, -3], [1, 1, -1]])\n",
    "A_wide = np.array([[3, -1, 1, 4], [2, -5, -3, -17], [1, 1, -1, 0]])\n",
    "np.linalg.matrix_rank(A) == np.linalg.matrix_rank(A_wide)"
   ]
  },
  {
   "cell_type": "code",
   "execution_count": 11,
   "id": "unnecessary-festival",
   "metadata": {},
   "outputs": [
    {
     "data": {
      "text/plain": [
       "True"
      ]
     },
     "execution_count": 11,
     "metadata": {},
     "output_type": "execute_result"
    }
   ],
   "source": [
    "n = 3 #количество переменных\n",
    "np.linalg.matrix_rank(A) == np.linalg.matrix_rank(A_wide) == n"
   ]
  },
  {
   "cell_type": "markdown",
   "id": "right-ottawa",
   "metadata": {},
   "source": [
    "Вывод: система совместна и имеет единственное решение"
   ]
  },
  {
   "cell_type": "code",
   "execution_count": 20,
   "id": "registered-kennedy",
   "metadata": {},
   "outputs": [
    {
     "data": {
      "text/plain": [
       "False"
      ]
     },
     "execution_count": 20,
     "metadata": {},
     "output_type": "execute_result"
    }
   ],
   "source": [
    "# б)\n",
    "A = np.array([[2, -4, 6], [1, -2, 3], [3, -6, 9]])\n",
    "A_wide = np.array([[2, -4, 6, 1], [1, -2, 3, -2], [3, -6, 9, 5]])\n",
    "np.linalg.matrix_rank(A) == np.linalg.matrix_rank(A_wide)"
   ]
  },
  {
   "cell_type": "code",
   "execution_count": 21,
   "id": "following-motion",
   "metadata": {},
   "outputs": [
    {
     "name": "stdout",
     "output_type": "stream",
     "text": [
      "Ранг матрицы А = 1,\n",
      "ранг расширенной матрицы А= 2\n"
     ]
    }
   ],
   "source": [
    "print(f'Ранг матрицы А = {np.linalg.matrix_rank(A)},\\nранг расширенной матрицы А= {np.linalg.matrix_rank(A_wide)}')"
   ]
  },
  {
   "cell_type": "markdown",
   "id": "automated-speaker",
   "metadata": {},
   "source": [
    "Вывод: система несовместна, т е не имеет решений"
   ]
  },
  {
   "cell_type": "code",
   "execution_count": 23,
   "id": "athletic-combination",
   "metadata": {},
   "outputs": [
    {
     "data": {
      "text/plain": [
       "True"
      ]
     },
     "execution_count": 23,
     "metadata": {},
     "output_type": "execute_result"
    }
   ],
   "source": [
    "#в)\n",
    "A = np.array([[1, 2, 5], [3, 1, -8]])\n",
    "A_wide = np.array([[1, 2, 5, 4], [3, 1, -8, -2]])\n",
    "np.linalg.matrix_rank(A) == np.linalg.matrix_rank(A_wide)"
   ]
  },
  {
   "cell_type": "code",
   "execution_count": 26,
   "id": "religious-receptor",
   "metadata": {},
   "outputs": [
    {
     "data": {
      "text/plain": [
       "False"
      ]
     },
     "execution_count": 26,
     "metadata": {},
     "output_type": "execute_result"
    }
   ],
   "source": [
    "n = 3\n",
    "np.linalg.matrix_rank(A) == np.linalg.matrix_rank(A_wide)== n"
   ]
  },
  {
   "cell_type": "code",
   "execution_count": 27,
   "id": "latter-heaven",
   "metadata": {},
   "outputs": [
    {
     "data": {
      "text/plain": [
       "2"
      ]
     },
     "execution_count": 27,
     "metadata": {},
     "output_type": "execute_result"
    }
   ],
   "source": [
    "np.linalg.matrix_rank(A)"
   ]
  },
  {
   "cell_type": "markdown",
   "id": "harmful-abuse",
   "metadata": {},
   "source": [
    "Вывод: ранг матрицы = рангу расширенной матрицы , но меньше количества переменных, значит система совместна и имеет бесконечное множество решений"
   ]
  },
  {
   "cell_type": "markdown",
   "id": "secret-identification",
   "metadata": {},
   "source": [
    "**Задание 3.** Проверить на совместность и выяснить, сколько решений будет иметь система линейных уравнений, заданная расширенной матрицей A_wide"
   ]
  },
  {
   "cell_type": "code",
   "execution_count": 33,
   "id": "previous-algebra",
   "metadata": {},
   "outputs": [
    {
     "name": "stdout",
     "output_type": "stream",
     "text": [
      "Матрица А расширенная:\n",
      "[[ 1  3 -2  4  3]\n",
      " [ 0  5  0  1  2]\n",
      " [ 0  0  3  0  4]\n",
      " [ 0  0  0  2  1]]\n",
      "Матрица А:\n",
      "[[ 1  3 -2  4]\n",
      " [ 0  5  0  1]\n",
      " [ 0  0  3  0]\n",
      " [ 0  0  0  2]]\n"
     ]
    }
   ],
   "source": [
    "A_wide = np.array([[1, 3, -2, 4, 3], [0, 5, 0, 1, 2], [0, 0, 3, 0, 4], [0, 0, 0, 2, 1]])\n",
    "A = np.array([[1, 3, -2, 4], [0, 5, 0, 1], [0, 0, 3, 0], [0, 0, 0, 2]])\n",
    "print(f'Матрица А расширенная:\\n{A_wide}\\nМатрица А:\\n{A}')"
   ]
  },
  {
   "cell_type": "markdown",
   "id": "perfect-working",
   "metadata": {},
   "source": [
    "Сразу можно определить ранги:  \n",
    "ранг A = 4  \n",
    "ранг A_wide также = 4   \n",
    "количество переменных также равно 4  \n",
    "\n",
    "Система совместна и будет иметь единственное решение"
   ]
  },
  {
   "cell_type": "markdown",
   "id": "fixed-escape",
   "metadata": {},
   "source": [
    "**Задание 4.**  Дана система линейных уравнений, заданная расширенной матрицей. Найти соотношение между параметрами  𝑎 ,  𝑏  и  𝑐 , при которых система является несовместной.  \n",
    "Задание решено на листочке( см фото)"
   ]
  },
  {
   "cell_type": "markdown",
   "id": "cardiac-settlement",
   "metadata": {},
   "source": [
    "### Методичка 2"
   ]
  },
  {
   "cell_type": "markdown",
   "id": "horizontal-river",
   "metadata": {},
   "source": [
    "**Задания решены на листочке (см фото).**"
   ]
  }
 ],
 "metadata": {
  "kernelspec": {
   "display_name": "Python 3",
   "language": "python",
   "name": "python3"
  },
  "language_info": {
   "codemirror_mode": {
    "name": "ipython",
    "version": 3
   },
   "file_extension": ".py",
   "mimetype": "text/x-python",
   "name": "python",
   "nbconvert_exporter": "python",
   "pygments_lexer": "ipython3",
   "version": "3.9.2"
  }
 },
 "nbformat": 4,
 "nbformat_minor": 5
}
