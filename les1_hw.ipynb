{
 "cells": [
  {
   "cell_type": "markdown",
   "id": "finnish-basis",
   "metadata": {},
   "source": [
    "### Методичка 1"
   ]
  },
  {
   "cell_type": "markdown",
   "id": "trying-butler",
   "metadata": {},
   "source": [
    "**Задача 1.** Исследовать на линейную зависимость:"
   ]
  },
  {
   "cell_type": "markdown",
   "id": "broad-plane",
   "metadata": {},
   "source": [
    "$f1(x) = e^x ; f2(x) = 1 ; f3(x) = x+1 ; f4(x) = x-e^x$\n",
    "\n",
    "Решение:\n",
    "\n",
    "$f4 = f3 - f2 - f1$"
   ]
  },
  {
   "cell_type": "markdown",
   "id": "regulated-blackjack",
   "metadata": {},
   "source": [
    "Вывод: 4-ю функцию можно выразить через линейную комбинацию из 3 остальных, значит они линейно зависимы"
   ]
  },
  {
   "cell_type": "markdown",
   "id": "expensive-legislation",
   "metadata": {},
   "source": [
    "**Задача 2.** Исследовать на линейную зависимость:"
   ]
  },
  {
   "cell_type": "markdown",
   "id": "handmade-lithuania",
   "metadata": {},
   "source": [
    "$f1(x) = 2; f2(x) = x; f3(x) = x^2; f4(x) = (x+1)^2$\n",
    "\n",
    "Решение:\n",
    "\n",
    "$f4 = x^2 + 2x +1 $\n",
    "\n",
    "$f4 = f3 + 2*f2 +1/2*f1 $\n",
    "\n"
   ]
  },
  {
   "cell_type": "markdown",
   "id": "right-mercy",
   "metadata": {},
   "source": [
    "Вывод: f4 можно линейно выразить через линейную комбинацию из 3 остальных, значит линейно зависимы"
   ]
  },
  {
   "cell_type": "markdown",
   "id": "stunning-airfare",
   "metadata": {},
   "source": [
    "**Задача 3.** Найти координаты вектора  𝑥=(2,3,5)∈ℝ3  в базисе  𝑏1=(0,0,10) ,  𝑏2=(2,0,0) ,  𝑏3=(0,1,0) ."
   ]
  },
  {
   "cell_type": "markdown",
   "id": "spread-tournament",
   "metadata": {},
   "source": [
    "Решение\n",
    "\n",
    "$x = 1/2*b1 + b2 + 3*b3 = (1/2, 1, 3)$"
   ]
  },
  {
   "cell_type": "markdown",
   "id": "harmful-guidance",
   "metadata": {},
   "source": [
    "**Задача 4.** Найти координаты вектора  3𝑥2−2𝑥+2∈ℝ3[𝑥] :\n",
    "\n",
    "$a = (3x^2, -2x, 2)$"
   ]
  },
  {
   "cell_type": "markdown",
   "id": "recognized-priest",
   "metadata": {},
   "source": [
    "а) в базисе  1, 𝑥, 𝑥2\n",
    "\n",
    "$a = 2*1 - 2*x + 3 *x^2 = (2,-2,3)$"
   ]
  },
  {
   "cell_type": "markdown",
   "id": "electric-alert",
   "metadata": {},
   "source": [
    "b) в базисе  𝑥2, x-1, 1\n",
    "\n",
    "$a = 3 * x^2 - 2(x-1) + 0*1 = (3, -2, 0) $"
   ]
  },
  {
   "cell_type": "markdown",
   "id": "affecting-employment",
   "metadata": {},
   "source": [
    "**Задача 5.** Установить, является ли линейным подпространством:"
   ]
  },
  {
   "cell_type": "markdown",
   "id": "industrial-witness",
   "metadata": {},
   "source": [
    "а) совокупность всех векторов трехмерного пространства, у которых по крайней мере одна из первых двух координат равна нулю\n",
    "\n",
    "*1 случай* - первая координата 0  \n",
    "x = (0, a, b)  \n",
    "y = (0, c, d)  \n",
    "x+y = (0, a+c, b+d)  \n",
    "2*x = (0, 2a, 2b)  \n",
    "2*y = (0, 2c, 2d)   \n",
    "Векторы остаются в том же пространстве, а значит совокупность таких векторов будет являться подпространством\n",
    "\n",
    "*2 случай* - вторая координата 0   \n",
    "x = (a, 0 b)  \n",
    "y = (c, 0, d)  \n",
    "x+y = (0, a+c, 0, b+d)  \n",
    "2*x = (2a, 0, 2b)  \n",
    "2*y = (2c, 0, 2d)  \n",
    "Векторы остаются в том же пространстве, а значит совокупность таких векторов будет являться подпространством\n",
    "\n",
    "*3 случай* - первая и вторая координаты 0\n",
    "x = (0, 0 a)  \n",
    "y = (0, 0, b)  \n",
    "x+y = (0, 0, a+b)  \n",
    "2*x = (0, 0, 2a)  \n",
    "2*y = (0, 0, 2b)  \n",
    "Векторы остаются в том же пространстве, а значит совокупность таких векторов будет являться подпространством\n",
    "\n",
    "**Общий вывод** - совокупность векторов в случае а является подпространством"
   ]
  },
  {
   "cell_type": "markdown",
   "id": "sticky-explosion",
   "metadata": {},
   "source": [
    "б) все векторы, являющиеся линейными комбинациями данных векторов  {𝑢1,𝑢2,…,𝑢𝑛} .\n",
    "a =  λ1u1 +  λ2u2 + ... +  λnun\n",
    "b = μ1u1 + μ2u2 + ... + μnun\n",
    "\n",
    "a+b = (λ1u1+μ1u1, λ2u2+μ2u2, ..., λnun+μnun) = u1*(λ1+μ1), u2(λ2+μ2),..., un(λn+μn)  \n",
    "2*a = 2*(λ1u1, λ2u2, ..., λnun) = (2λ1u1, 2λ2u2, ..., 2λnun) \n",
    "\n",
    "**Общий вывод**  Является линейным подпространством"
   ]
  },
  {
   "cell_type": "markdown",
   "id": "preceding-subscription",
   "metadata": {},
   "source": [
    "### Методичка 2"
   ]
  },
  {
   "cell_type": "markdown",
   "id": "rough-detroit",
   "metadata": {},
   "source": [
    "**Задача 1.** Найти скалярное произведение векторов  𝑥,𝑦∈ℝ :"
   ]
  },
  {
   "cell_type": "code",
   "execution_count": 119,
   "id": "pregnant-kuwait",
   "metadata": {},
   "outputs": [
    {
     "name": "stdout",
     "output_type": "stream",
     "text": [
      "Скалярное произведение x и y, рассчитанное вручную = 33\n",
      "Скалярное произведение x и y, рассчитанное по функции = 33\n"
     ]
    }
   ],
   "source": [
    "# а)  𝑥=(0,−3,6), 𝑦=(−4,7,9)\n",
    "import numpy as np\n",
    "x = np.array([0, -3, 6])\n",
    "y = np.array([-4, 7, 9])\n",
    "print(f'Скалярное произведение x и y, рассчитанное вручную = {0*(-4) + (-3)*7 + 6*9}')\n",
    "print(f'Скалярное произведение x и y, рассчитанное по функции = {np.dot(x,y)}')\n",
    "\n",
    "# значения совпадают"
   ]
  },
  {
   "cell_type": "code",
   "execution_count": 120,
   "id": "arctic-graphics",
   "metadata": {},
   "outputs": [
    {
     "name": "stdout",
     "output_type": "stream",
     "text": [
      "Скалярное произведение x и y, рассчитанное вручную = -23\n",
      "Скалярное произведение x и y, рассчитанное по функции = -23\n"
     ]
    }
   ],
   "source": [
    "#б)  𝑥=(7,−4,0,1), 𝑦=(−3,1,11,2)\n",
    "\n",
    "x1 = np.array([7,-4,0,1])\n",
    "y1 = np.array([-3,1,11,2])\n",
    "print(f'Скалярное произведение x и y, рассчитанное вручную = {7*(-3) + (-4)*1 + 0*11 + 1*2}')\n",
    "print(f'Скалярное произведение x и y, рассчитанное по функции = {np.dot(x1,y1)}')\n",
    "\n",
    "#значения совпадают"
   ]
  },
  {
   "cell_type": "markdown",
   "id": "restricted-frederick",
   "metadata": {},
   "source": [
    "**Задача 2.**  Найти нормы векторов  (4,2,4)  и  (12,3,4)  и угол между ними."
   ]
  },
  {
   "cell_type": "code",
   "execution_count": 121,
   "id": "fiscal-satellite",
   "metadata": {},
   "outputs": [],
   "source": [
    "a = np.array([4, 2, 4])\n",
    "b = np.array([12, 3, 4])\n",
    "\n",
    "from numpy.linalg import norm"
   ]
  },
  {
   "cell_type": "code",
   "execution_count": 122,
   "id": "exposed-brush",
   "metadata": {},
   "outputs": [
    {
     "name": "stdout",
     "output_type": "stream",
     "text": [
      "Манхэттенская норма вектора а (ручной расчет) = 10\n",
      "Манхэттенская норма вектора а (по функции) = 10.0\n",
      "Манхэттенская норма вектора b (ручной расчет) = 19\n",
      "Манхэттенская норма вектора b (по функции) = 19.0\n"
     ]
    }
   ],
   "source": [
    "#Рассчитаем манхэттенскую норму\n",
    "print(f'Манхэттенская норма вектора а (ручной расчет) = {4+2+4}')\n",
    "print(f'Манхэттенская норма вектора а (по функции) = {norm(a, ord=1)}')\n",
    "\n",
    "print(f'Манхэттенская норма вектора b (ручной расчет) = {12+3+4}')\n",
    "print(f'Манхэттенская норма вектора b (по функции) = {norm(b, ord=1)}')"
   ]
  },
  {
   "cell_type": "code",
   "execution_count": 123,
   "id": "corresponding-medicaid",
   "metadata": {},
   "outputs": [
    {
     "name": "stdout",
     "output_type": "stream",
     "text": [
      "Евклидова норма вектора а (ручной расчет) = 6.0\n",
      "Евклидова норма вектора а (по функции) = 6.0\n",
      "Евклидова норма вектора b (ручной расчет) = 13.0\n",
      "Евклидова норма вектора b (по функции) = 13.0\n"
     ]
    }
   ],
   "source": [
    "#Рассчитаем евклидову норму\n",
    "from math import sqrt\n",
    "\n",
    "print(f'Евклидова норма вектора а (ручной расчет) = {sqrt(4**2+2**2+4**2)}')\n",
    "print(f'Евклидова норма вектора а (по функции) = {norm(a)}')\n",
    "\n",
    "print(f'Евклидова норма вектора b (ручной расчет) = {sqrt(12**2+3**2+4**2)}')\n",
    "print(f'Евклидова норма вектора b (по функции) = {norm(b)}')"
   ]
  },
  {
   "cell_type": "code",
   "execution_count": 124,
   "id": "authorized-illness",
   "metadata": {},
   "outputs": [
    {
     "name": "stdout",
     "output_type": "stream",
     "text": [
      "cos угла между векторами а и b (ручной расчет) = 0.897\n",
      "cos угла между веткорами а и b (по функциям) = 0.897\n"
     ]
    }
   ],
   "source": [
    "#Найдем угол между векторами\n",
    "\n",
    "print(f'cos угла между векторами а и b (ручной расчет) = {(4*12+2*3+4*4)/(6*13):.3f}')\n",
    "print(f'cos угла между веткорами а и b (по функциям) = {np.dot(a,b)/norm(a)/norm(b):.3f}')"
   ]
  },
  {
   "cell_type": "markdown",
   "id": "seventh-apparatus",
   "metadata": {},
   "source": [
    "по таблице косинусов - угол между векторами составит 26 градусов"
   ]
  },
  {
   "cell_type": "markdown",
   "id": "front-renaissance",
   "metadata": {},
   "source": [
    "**Задача 3.** \n",
    "3. Будет ли линейное пространство евклидовым, если за скалярное произведение принять:  \n",
    "\n",
    "а) произведение длин векторов;\n",
    "длина вектора = $\\sqrt(\\sum_{Xi^2})$\n",
    "\n",
    "Первые два свойства однозначно будут работать:  \n",
    "2 свойство : $\\sqrt(\\sum_{ L * Xi^2}) * \\sqrt(\\sum_{ Yi^2}) = \\sqrt(\\sum_{ L * Xi^2}* {yi^2})$ \n",
    "\n",
    "3 свойство : $\\sqrt(\\sum_{ (X1 + X2)^2}) * \\sqrt(\\sum_{ Yi^2}) = \\sqrt(\\sum_{ X1^2})*\\sqrt(\\sum_{ Yi^2}) +  \\sqrt(\\sum_{ X2^2})*\\sqrt(\\sum_{ Yi^2})$ - НЕВЕРНО!\n",
    "\n",
    "Вывод: в этом случае линейное пространство не будет еквлидовым, т к не выполняется 3 аксиома"
   ]
  },
  {
   "cell_type": "markdown",
   "id": "naval-region",
   "metadata": {},
   "source": [
    "б) утроенное обычное скалярное произведение векторов\n",
    "\n",
    "Если обычное скалярное произведение соотвествует 4 аксиомам, необходимым для того, чтобы считать пространство Евклидовым, то умножая его на какое-либо число (например, 3), также останется соответствующим этим 4 аксиомам"
   ]
  },
  {
   "cell_type": "markdown",
   "id": "voluntary-intersection",
   "metadata": {},
   "source": [
    "**Задача 4.** \n",
    "4. Какие из нижеперечисленных векторов образуют ортонормированный базис в линейном пространстве  ℝ3 :\n",
    "\n",
    "а)  $(1,0,0),(0,0,1); $ \n",
    "\n",
    "б)$(1/\\sqrt(2), 1/\\sqrt(2),0),(1/\\sqrt(2), 2/\\sqrt(2),0),(0,0,1) $\n",
    "\n",
    "в) $(1/2,−1/2,0),(0,1/2,1/2),(0,0,1);$\n",
    "\n",
    "г) $(1,0,0),(0,1,0),(0,0,1)$\n",
    "\n",
    "Проверяем свойства $(𝑒𝑖,𝑒𝑗)=0     ∀   𝑖≠𝑗$  и  $(𝑒𝑖,𝑒𝑖)=1     ∀   𝑖∈[1,𝑛] $"
   ]
  },
  {
   "cell_type": "code",
   "execution_count": 125,
   "id": "academic-carter",
   "metadata": {},
   "outputs": [],
   "source": [
    "#создадим функцию для проверки на ортонормированность базиса. Т. к. все векторы неодинаковы, проверяем 1 условие\n",
    "def is_orthonormality(x,y):\n",
    "    multiply = np.dot(x,y)\n",
    "    if multiply == 0:\n",
    "        print('Базис является ортономированным')\n",
    "    else:\n",
    "        print('Базис не будет являться ортонормированным')"
   ]
  },
  {
   "cell_type": "markdown",
   "id": "assigned-yacht",
   "metadata": {},
   "source": [
    "#а) (1,0,0),(0,0,1)  \n",
    "Не будет линейным пространством, т к должно быть 3 независимых вектора."
   ]
  },
  {
   "cell_type": "code",
   "execution_count": 126,
   "id": "auburn-evaluation",
   "metadata": {},
   "outputs": [
    {
     "name": "stdout",
     "output_type": "stream",
     "text": [
      "Базис является ортономированным\n"
     ]
    }
   ],
   "source": [
    "#б) \n",
    "from math import sqrt\n",
    "x = np.array([1/(sqrt(2)), -1/(sqrt(2)), 0])\n",
    "y = np.array([1/(sqrt(2)), 1/(sqrt(2)), 0])\n",
    "z = np.array([0, 0, 1])\n",
    "is_orthonormality(y,x) # проверены все векторы попарно"
   ]
  },
  {
   "cell_type": "code",
   "execution_count": 127,
   "id": "simplified-pollution",
   "metadata": {},
   "outputs": [
    {
     "name": "stdout",
     "output_type": "stream",
     "text": [
      "Базис не будет являться ортонормированным\n"
     ]
    }
   ],
   "source": [
    "#в)\n",
    "x = np.array([1/2, -1/2, 0])\n",
    "y = np.array([0, 1/2, 1/2])\n",
    "z = np.array([0, 0, 1])\n",
    "is_orthonormality(y, z) # проверены все пары. Произведение =0 при у векторов x и z"
   ]
  },
  {
   "cell_type": "code",
   "execution_count": 128,
   "id": "thirty-september",
   "metadata": {},
   "outputs": [
    {
     "data": {
      "text/plain": [
       "(0.7071067811865476, 0.7071067811865476, 1.0)"
      ]
     },
     "execution_count": 128,
     "metadata": {},
     "output_type": "execute_result"
    }
   ],
   "source": [
    "# проверим дополнительно\n",
    "norm(x), norm(y), norm(z)\n",
    "\n",
    "#длина векторов по норме не равна 1, кроме последнего"
   ]
  },
  {
   "cell_type": "code",
   "execution_count": 129,
   "id": "plastic-treatment",
   "metadata": {},
   "outputs": [
    {
     "name": "stdout",
     "output_type": "stream",
     "text": [
      "Базис является ортономированным\n"
     ]
    }
   ],
   "source": [
    "#г)  (1,0,0),(0,1,0),(0,0,1)\n",
    "\n",
    "x = np.array([1, 0, 0])\n",
    "y = np.array([0, 1, 0])\n",
    "z = np.array([0, 0, 1])\n",
    "is_orthonormality(x, y) #проверены все пары"
   ]
  },
  {
   "cell_type": "code",
   "execution_count": null,
   "id": "available-malpractice",
   "metadata": {},
   "outputs": [],
   "source": []
  }
 ],
 "metadata": {
  "kernelspec": {
   "display_name": "Python 3",
   "language": "python",
   "name": "python3"
  },
  "language_info": {
   "codemirror_mode": {
    "name": "ipython",
    "version": 3
   },
   "file_extension": ".py",
   "mimetype": "text/x-python",
   "name": "python",
   "nbconvert_exporter": "python",
   "pygments_lexer": "ipython3",
   "version": "3.9.2"
  }
 },
 "nbformat": 4,
 "nbformat_minor": 5
}
