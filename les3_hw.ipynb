{
 "cells": [
  {
   "cell_type": "markdown",
   "id": "cordless-jefferson",
   "metadata": {},
   "source": [
    "**Задание 1.** Найти собственные векторы и собственные значения для линейного оператора, заданного матрицей A"
   ]
  },
  {
   "cell_type": "code",
   "execution_count": 21,
   "id": "animal-perspective",
   "metadata": {},
   "outputs": [],
   "source": [
    "import numpy as np"
   ]
  },
  {
   "cell_type": "code",
   "execution_count": 22,
   "id": "automotive-asbestos",
   "metadata": {},
   "outputs": [
    {
     "data": {
      "text/plain": [
       "array([[-1, -6],\n",
       "       [ 2,  6]])"
      ]
     },
     "execution_count": 22,
     "metadata": {},
     "output_type": "execute_result"
    }
   ],
   "source": [
    "A = np.array([[-1, -6], [2, 6]])\n",
    "A"
   ]
  },
  {
   "cell_type": "markdown",
   "id": "dress-tokyo",
   "metadata": {},
   "source": [
    "$A = [[-1-lambda, -6]  [2, 6-lambda]])$   \n",
    "найдем определитель  \n",
    "\n",
    "lambda = l\n",
    "\n",
    "$detA = (1-l)*(6-l) - ((-6)*2) = (-6-6*l + l^2 + l) + 12 = l^2 - 5*l - 6 + 12 = l^2-5*l+6 =0$  \n",
    "$l_{1} = 2$  \n",
    "$l_{2} = 3$  \n",
    "\n",
    "Найдем собственные векторы  \n",
    "1) при $l_1=2  $  \n",
    "$A*(x_1, x_2) = l_1(x_1, x_2)  $  \n",
    "\n",
    "составим систему уравнений  \n",
    "$-1*x_1 - 6*x_2 = 2*x_1  $\n",
    "$2*x_1 + 6*x_2 = 2*x_2 $ \n",
    "\n",
    "$-6*x_2 = 3*x_1  $\n",
    "$2*x_1 = - 4*x_2 $ \n",
    "\n",
    "Из обоих уравнений получается, что:\n",
    "$x_1 = - 2*x_2$\n",
    "\n",
    "Пусть $x_{2}= 1$, тогда $x_{1}$ = -2 и собственный вектор будет (-2,1)\n",
    "\n",
    "2) при $l_2=3 $   \n",
    "$A*(x_1, x_2) = l_2(x_1, x_2)$    \n",
    "\n",
    "Составим систему уравнений  \n",
    "$-1*x_1 - 6*x_2 = 3*x_1 $   \n",
    "$2*x_1 + 6*x_2 = 3*x_2  $\n",
    "\n",
    "$-6*x_2 = 4*x_1$   \n",
    "$2*x_1 = -3*x_2$\n",
    "\n",
    "$-3*x_2 = 2*x_2$  \n",
    "$2*x_1 = -3*x_2$ \n",
    "\n",
    "Из обоих уравнений получаем:\n",
    "$x_1 = -3/2*x_2$  \n",
    "\n",
    "Пусть $x_2 = 2, -> x_1 = -3$ и собственный вектор = (-3,2)  \n",
    "\n",
    "Итого собственные значения = 2 и 3,  \n",
    "Собственные векторы = (-2,1) и (-3, 2)"
   ]
  },
  {
   "cell_type": "code",
   "execution_count": 23,
   "id": "expressed-pasta",
   "metadata": {},
   "outputs": [
    {
     "data": {
      "text/plain": [
       "array([2., 3.])"
      ]
     },
     "execution_count": 23,
     "metadata": {},
     "output_type": "execute_result"
    }
   ],
   "source": [
    "# Проверим собственные значения\n",
    "v,w = np.linalg.eig(A) \n",
    "v"
   ]
  },
  {
   "cell_type": "markdown",
   "id": "northern-afghanistan",
   "metadata": {},
   "source": [
    "**Задание 2.** Дан оператор поворота на 180 градусов, задаваемый матрицей A. Показать, что любой вектор является для него собственным."
   ]
  },
  {
   "cell_type": "code",
   "execution_count": 24,
   "id": "stupid-ground",
   "metadata": {},
   "outputs": [
    {
     "data": {
      "text/plain": [
       "array([[-1,  0],\n",
       "       [ 0, -1]])"
      ]
     },
     "execution_count": 24,
     "metadata": {},
     "output_type": "execute_result"
    }
   ],
   "source": [
    "A = np.array([[-1, 0], [0, -1]])\n",
    "A"
   ]
  },
  {
   "cell_type": "markdown",
   "id": "diagnostic-alias",
   "metadata": {},
   "source": [
    "$A = [[-1-lambda, 0]  [0, -1-lambda]])$   \n",
    "найдем определитель  \n",
    "\n",
    "lambda = l\n",
    "\n",
    "Найдем detA и приравниваем к 0\n",
    "$(-1-l)^2 - 0 = 0 $  \n",
    "$(-1-l)^2 = 0$  \n",
    "$-1-l = 0$  \n",
    "$l = 1 $  \n",
    "\n",
    "Найдем собственные векторы.   \n",
    "$A*(x_1, x_2) = -1* (x_1, x_2)$  \n",
    "\n",
    "$-1*x_1 + 0*x_2 = -x_1$  \n",
    "$0*x_1 -1*x_2 = -1*x_2$  \n",
    "\n",
    "$-x_1 = -x_1$  \n",
    "$-x-2 = -x_2$  \n",
    "\n",
    "Можно сделать вывод, что любой ненулевой вектор будет собственным для оператора А, чтд"
   ]
  },
  {
   "cell_type": "markdown",
   "id": "computational-persian",
   "metadata": {},
   "source": [
    "**Задание 3.** Пусть линейный оператор задан матрицей A. Установить, является ли вектор  𝑥=(1,1)  собственным вектором этого линейного оператора."
   ]
  },
  {
   "cell_type": "code",
   "execution_count": 25,
   "id": "white-pavilion",
   "metadata": {},
   "outputs": [
    {
     "data": {
      "text/plain": [
       "array([[ 1,  1],\n",
       "       [-1,  3]])"
      ]
     },
     "execution_count": 25,
     "metadata": {},
     "output_type": "execute_result"
    }
   ],
   "source": [
    "A = np.array([[1, 1], [-1, 3]])\n",
    "A"
   ]
  },
  {
   "cell_type": "markdown",
   "id": "behind-jones",
   "metadata": {},
   "source": [
    "Решим систему уравнений  \n",
    "$x_1 = 1$  \n",
    "$x_2 = 2$  \n",
    "\n",
    "$A*(1,1) = l * (1,1)$  \n",
    "\n",
    "1*1+1*1 = l*1  \n",
    "-1*1 + 3*1 = l*1  \n",
    "\n",
    "из обоих уравнений следует, что l = 2, значит вектор (1,1) является собственным"
   ]
  },
  {
   "cell_type": "markdown",
   "id": "geological-atlanta",
   "metadata": {},
   "source": [
    "**Задание 4.** Пусть линейный оператор задан матрицей A. Установить, является ли вектор  𝑥=(3,−3,−4)  собственным вектором этого линейного оператора."
   ]
  },
  {
   "cell_type": "code",
   "execution_count": 26,
   "id": "friendly-count",
   "metadata": {},
   "outputs": [
    {
     "data": {
      "text/plain": [
       "array([[0, 3, 0],\n",
       "       [3, 0, 0],\n",
       "       [0, 0, 3]])"
      ]
     },
     "execution_count": 26,
     "metadata": {},
     "output_type": "execute_result"
    }
   ],
   "source": [
    "A = np.array([[0, 3, 0], [3, 0,0 ], [0, 0, 3]])\n",
    "A"
   ]
  },
  {
   "cell_type": "markdown",
   "id": "magnetic-discussion",
   "metadata": {},
   "source": [
    "Решим систему уравнений  \n",
    "\n",
    "$x_1 = 3, x_2 = -3, x_3 = -4$  \n",
    "$A*(3,-3,-4) = l*(3,-3,-4)  $\n",
    "\n",
    "$0*3+3*(-3)+0*(-4) = 3*l$  \n",
    "$3*3 + 0*(-3) + 0*(-4) = l*(-3)$  \n",
    "$0*3+0*(-3)+3*(-4) = l*(-4)$  \n",
    "\n",
    "$-9 = l*3$  \n",
    "$9 = l*(-3)$  \n",
    "$-12 = l*(-4)$  \n",
    "\n",
    "$l=-3$  \n",
    "$l=-3$  \n",
    "$l = 3$  \n",
    "\n",
    "Решив систему уравнений, мы не получаем единственное число лямбда , значит вектор х в данном случае не является собственным вектором линейного оператора А"
   ]
  },
  {
   "cell_type": "code",
   "execution_count": null,
   "id": "sized-grade",
   "metadata": {},
   "outputs": [],
   "source": []
  }
 ],
 "metadata": {
  "kernelspec": {
   "display_name": "Python 3",
   "language": "python",
   "name": "python3"
  },
  "language_info": {
   "codemirror_mode": {
    "name": "ipython",
    "version": 3
   },
   "file_extension": ".py",
   "mimetype": "text/x-python",
   "name": "python",
   "nbconvert_exporter": "python",
   "pygments_lexer": "ipython3",
   "version": "3.9.2"
  }
 },
 "nbformat": 4,
 "nbformat_minor": 5
}
