{
 "cells": [
  {
   "cell_type": "markdown",
   "id": "small-prefix",
   "metadata": {},
   "source": [
    "**Задание 1.** Найти с помощью NumPy SVD для матрицы A"
   ]
  },
  {
   "cell_type": "code",
   "execution_count": 77,
   "id": "vertical-shopper",
   "metadata": {},
   "outputs": [],
   "source": [
    "import numpy as np"
   ]
  },
  {
   "cell_type": "code",
   "execution_count": 78,
   "id": "consolidated-penny",
   "metadata": {},
   "outputs": [
    {
     "name": "stdout",
     "output_type": "stream",
     "text": [
      "Матрица А: \n",
      "[[ 1  2  0]\n",
      " [ 0  0  5]\n",
      " [ 3 -4  2]\n",
      " [ 1  6  5]\n",
      " [ 0  1  0]]\n"
     ]
    }
   ],
   "source": [
    "A = np.array([[1, 2, 0], [0, 0, 5], [3, -4, 2], [1, 6, 5], [0, 1, 0]])\n",
    "print(f'Матрица А: \\n{A}')"
   ]
  },
  {
   "cell_type": "code",
   "execution_count": 79,
   "id": "seven-confusion",
   "metadata": {},
   "outputs": [
    {
     "name": "stdout",
     "output_type": "stream",
     "text": [
      "Матрица U: \n",
      "[[ 0.17056501  0.15680918 -0.53077508 -0.79905375 -0.16158397]\n",
      " [ 0.39287016 -0.52933945  0.6134793  -0.43375771  0.03082495]\n",
      " [-0.14366152 -0.82449256 -0.52379105  0.14049848  0.07400343]\n",
      " [ 0.88843702  0.06074346 -0.24655277  0.37755832 -0.06042632]\n",
      " [ 0.08125046  0.10831843 -0.08231425 -0.10524851  0.98173958]], \n",
      "\n",
      "Диагональная матрица D: \n",
      "[[8.82486885 0.         0.        ]\n",
      " [0.         6.14060608 0.        ]\n",
      " [0.         0.         2.53271528]\n",
      " [0.         0.         0.        ]\n",
      " [0.         0.         0.        ]], \n",
      "\n",
      "Матрица  V: \n",
      "[[ 0.07116451  0.71702467  0.69340553]\n",
      " [-0.36737824  0.66514082 -0.65009301]\n",
      " [-0.92734505 -0.20847855  0.31075368]]\n"
     ]
    }
   ],
   "source": [
    "#Найдем сингулярное разложение матрицы А\n",
    "U, s, W = np.linalg.svd(A)\n",
    "D = np.zeros_like(A, dtype = float)\n",
    "D[np.diag_indices(3)] = s\n",
    "\n",
    "print(f'Матрица U: \\n{U}, \\n\\nДиагональная матрица D: \\n{D}, \\n\\nМатрица  V: \\n{W}')"
   ]
  },
  {
   "cell_type": "markdown",
   "id": "controlled-server",
   "metadata": {},
   "source": [
    "**Задание 2.** Найти для матрицы А норму а)Евклида и б)Фробениуса"
   ]
  },
  {
   "cell_type": "code",
   "execution_count": 80,
   "id": "supported-wellington",
   "metadata": {},
   "outputs": [
    {
     "name": "stdout",
     "output_type": "stream",
     "text": [
      "Норма Евклида = 8.824868854820444, Норма Фробениуса = 11.045361017187261\n"
     ]
    }
   ],
   "source": [
    "#Евклидова норма при существующем сингулярном разложении будет равна первому(наибольшему) элементу диагональной \n",
    "#матрицы D или первому элементу массива s\n",
    "norm_e = s[0]\n",
    "\n",
    "#Норму Фробениуса найдем с помощью встроенной функции numpy.linalg\n",
    "norm_f = np.linalg.norm(A, ord = 'fro')\n",
    "print(f'Норма Евклида = {norm_e}, Норма Фробениуса = {norm_f}')"
   ]
  },
  {
   "cell_type": "code",
   "execution_count": 81,
   "id": "metric-advocacy",
   "metadata": {},
   "outputs": [
    {
     "data": {
      "text/plain": [
       "11.045361017187263"
      ]
     },
     "execution_count": 81,
     "metadata": {},
     "output_type": "execute_result"
    }
   ],
   "source": [
    "# В качестве проверки рассчитаем норму Фробениуса вручную\n",
    "from math import sqrt\n",
    "norm_f_1 = sqrt(sum(D[np.diag_indices(min(D.shape))]**2))\n",
    "norm_f_1"
   ]
  },
  {
   "cell_type": "code",
   "execution_count": 82,
   "id": "naval-harrison",
   "metadata": {},
   "outputs": [
    {
     "data": {
      "text/plain": [
       "True"
      ]
     },
     "execution_count": 82,
     "metadata": {},
     "output_type": "execute_result"
    }
   ],
   "source": [
    "# Проверка, норма Евклида должна быть меньше нормы Фробениуса\n",
    "norm_e < norm_f"
   ]
  }
 ],
 "metadata": {
  "kernelspec": {
   "display_name": "Python 3",
   "language": "python",
   "name": "python3"
  },
  "language_info": {
   "codemirror_mode": {
    "name": "ipython",
    "version": 3
   },
   "file_extension": ".py",
   "mimetype": "text/x-python",
   "name": "python",
   "nbconvert_exporter": "python",
   "pygments_lexer": "ipython3",
   "version": "3.9.2"
  }
 },
 "nbformat": 4,
 "nbformat_minor": 5
}
